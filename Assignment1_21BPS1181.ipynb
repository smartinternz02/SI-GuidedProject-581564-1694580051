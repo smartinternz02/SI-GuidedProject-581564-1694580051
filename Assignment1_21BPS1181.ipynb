{
  "nbformat": 4,
  "nbformat_minor": 0,
  "metadata": {
    "colab": {
      "provenance": []
    },
    "kernelspec": {
      "name": "python3",
      "display_name": "Python 3"
    },
    "language_info": {
      "name": "python"
    }
  },
  "cells": [
    {
      "cell_type": "markdown",
      "source": [
        "NumPy Exercises\n",
        "\n",
        "Now that we've learned about NumPy let's test your knowledge. We'll start off with a few\n",
        "simple tasks, and then you'll be asked some more complicated questions."
      ],
      "metadata": {
        "id": "8OZgbPhbUzhb"
      }
    },
    {
      "cell_type": "markdown",
      "source": [
        "Import NumPy as np"
      ],
      "metadata": {
        "id": "3IjeyRqXU58S"
      }
    },
    {
      "cell_type": "code",
      "source": [
        "import numpy as np\n"
      ],
      "metadata": {
        "id": "PA1gvxLdVAiz"
      },
      "execution_count": 2,
      "outputs": []
    },
    {
      "cell_type": "markdown",
      "source": [
        "Create an array of 10 zeros\n"
      ],
      "metadata": {
        "id": "KaBnHhopVDr6"
      }
    },
    {
      "cell_type": "code",
      "source": [
        "\n",
        "np.zeros(10)\n"
      ],
      "metadata": {
        "colab": {
          "base_uri": "https://localhost:8080/",
          "height": 0
        },
        "id": "gUZvn9klVFCG",
        "outputId": "639eacbd-88ee-4d94-cae5-c6428c99180c"
      },
      "execution_count": 3,
      "outputs": [
        {
          "output_type": "execute_result",
          "data": {
            "text/plain": [
              "array([0., 0., 0., 0., 0., 0., 0., 0., 0., 0.])"
            ]
          },
          "metadata": {},
          "execution_count": 3
        }
      ]
    },
    {
      "cell_type": "markdown",
      "source": [
        "Create an array of 10 ones\n"
      ],
      "metadata": {
        "id": "z5A5TAV1VJA6"
      }
    },
    {
      "cell_type": "code",
      "source": [
        "np.ones(10)"
      ],
      "metadata": {
        "colab": {
          "base_uri": "https://localhost:8080/",
          "height": 0
        },
        "id": "w1oWXNDdVJqr",
        "outputId": "c66f84ad-8ecd-4239-b2a1-2bc217f14af8"
      },
      "execution_count": 4,
      "outputs": [
        {
          "output_type": "execute_result",
          "data": {
            "text/plain": [
              "array([1., 1., 1., 1., 1., 1., 1., 1., 1., 1.])"
            ]
          },
          "metadata": {},
          "execution_count": 4
        }
      ]
    },
    {
      "cell_type": "markdown",
      "source": [
        "Create an array of 10 fives\n"
      ],
      "metadata": {
        "id": "FrgiLLj5VMz0"
      }
    },
    {
      "cell_type": "code",
      "source": [
        "np.full(10,5.0)\n"
      ],
      "metadata": {
        "colab": {
          "base_uri": "https://localhost:8080/",
          "height": 0
        },
        "id": "mUGJfkGCVTnL",
        "outputId": "51bb772e-c364-4a06-ed51-1aa78a4318c4"
      },
      "execution_count": 5,
      "outputs": [
        {
          "output_type": "execute_result",
          "data": {
            "text/plain": [
              "array([5., 5., 5., 5., 5., 5., 5., 5., 5., 5.])"
            ]
          },
          "metadata": {},
          "execution_count": 5
        }
      ]
    },
    {
      "cell_type": "markdown",
      "source": [
        "Create an array of the integers from 10 to 50\n",
        "\n"
      ],
      "metadata": {
        "id": "uP2FpfK0VXRU"
      }
    },
    {
      "cell_type": "code",
      "source": [
        "np.arange(10,51,2)\n"
      ],
      "metadata": {
        "colab": {
          "base_uri": "https://localhost:8080/",
          "height": 0
        },
        "id": "RJW8H5XCVbc2",
        "outputId": "05b14301-b36a-425b-c440-d7cd35784313"
      },
      "execution_count": 6,
      "outputs": [
        {
          "output_type": "execute_result",
          "data": {
            "text/plain": [
              "array([10, 12, 14, 16, 18, 20, 22, 24, 26, 28, 30, 32, 34, 36, 38, 40, 42,\n",
              "       44, 46, 48, 50])"
            ]
          },
          "metadata": {},
          "execution_count": 6
        }
      ]
    },
    {
      "cell_type": "markdown",
      "source": [
        "Create a 3x3 matrix with values ranging from 0 to 8"
      ],
      "metadata": {
        "id": "t0K2GM6UVdxT"
      }
    },
    {
      "cell_type": "code",
      "source": [
        "np.arange(9).reshape((3,3))\n"
      ],
      "metadata": {
        "colab": {
          "base_uri": "https://localhost:8080/",
          "height": 0
        },
        "id": "-v1HsteXVfrG",
        "outputId": "1b54ebd6-5f2a-4186-d68d-22d2c0f3ea56"
      },
      "execution_count": 7,
      "outputs": [
        {
          "output_type": "execute_result",
          "data": {
            "text/plain": [
              "array([[0, 1, 2],\n",
              "       [3, 4, 5],\n",
              "       [6, 7, 8]])"
            ]
          },
          "metadata": {},
          "execution_count": 7
        }
      ]
    },
    {
      "cell_type": "markdown",
      "source": [
        "Create a 3x3 identity matrix"
      ],
      "metadata": {
        "id": "tqXKjS2PVk_D"
      }
    },
    {
      "cell_type": "code",
      "source": [
        "np.eye(3)"
      ],
      "metadata": {
        "colab": {
          "base_uri": "https://localhost:8080/",
          "height": 0
        },
        "id": "AVTF0NlhVlqP",
        "outputId": "d8803363-2f25-4dfc-887e-8298975cae25"
      },
      "execution_count": 8,
      "outputs": [
        {
          "output_type": "execute_result",
          "data": {
            "text/plain": [
              "array([[1., 0., 0.],\n",
              "       [0., 1., 0.],\n",
              "       [0., 0., 1.]])"
            ]
          },
          "metadata": {},
          "execution_count": 8
        }
      ]
    },
    {
      "cell_type": "markdown",
      "source": [
        "Use NumPy to generate a random number between 0 and 1"
      ],
      "metadata": {
        "id": "NDvvNdJsVtV3"
      }
    },
    {
      "cell_type": "code",
      "source": [
        "np.random.rand(1)\n"
      ],
      "metadata": {
        "colab": {
          "base_uri": "https://localhost:8080/",
          "height": 0
        },
        "id": "E9Gg25gWVulG",
        "outputId": "7e87203a-d0de-45e6-9b33-4752bb0d0025"
      },
      "execution_count": 9,
      "outputs": [
        {
          "output_type": "execute_result",
          "data": {
            "text/plain": [
              "array([0.98078032])"
            ]
          },
          "metadata": {},
          "execution_count": 9
        }
      ]
    },
    {
      "cell_type": "markdown",
      "source": [
        "Use NumPy to generate an array of 25 random numbers sampled from a\n",
        "standard normal distribution\n"
      ],
      "metadata": {
        "id": "hqZQWCLiVyTJ"
      }
    },
    {
      "cell_type": "code",
      "source": [
        "np.random.randn(25)\n"
      ],
      "metadata": {
        "colab": {
          "base_uri": "https://localhost:8080/",
          "height": 0
        },
        "id": "QlVVCq7jVzCe",
        "outputId": "c122538f-3f28-4cd0-ecad-c31ae12e8b17"
      },
      "execution_count": 10,
      "outputs": [
        {
          "output_type": "execute_result",
          "data": {
            "text/plain": [
              "array([ 0.86562843, -0.02925245, -0.56119839, -1.26525827, -1.27496598,\n",
              "        0.50096249,  1.77993302,  0.35259305, -0.98626061, -0.63344255,\n",
              "        1.3839258 , -1.26501798, -1.26017397, -0.08927275,  1.80887364,\n",
              "       -1.18672597,  1.10538946,  1.34421497,  1.18808504,  1.45063192,\n",
              "        1.95282586, -1.65244206,  0.97330565, -0.44683353,  0.24491989])"
            ]
          },
          "metadata": {},
          "execution_count": 10
        }
      ]
    },
    {
      "cell_type": "markdown",
      "source": [
        "Create the following matrix:"
      ],
      "metadata": {
        "id": "dmWKRE6uV1Pm"
      }
    },
    {
      "cell_type": "code",
      "source": [
        "np.arange(0.01, 1.01, 0.01).reshape(10, 10)\n"
      ],
      "metadata": {
        "colab": {
          "base_uri": "https://localhost:8080/",
          "height": 0
        },
        "id": "ZICayle_V4XP",
        "outputId": "375a02e4-2a68-4e4c-c628-4e94c09757df"
      },
      "execution_count": 11,
      "outputs": [
        {
          "output_type": "execute_result",
          "data": {
            "text/plain": [
              "array([[0.01, 0.02, 0.03, 0.04, 0.05, 0.06, 0.07, 0.08, 0.09, 0.1 ],\n",
              "       [0.11, 0.12, 0.13, 0.14, 0.15, 0.16, 0.17, 0.18, 0.19, 0.2 ],\n",
              "       [0.21, 0.22, 0.23, 0.24, 0.25, 0.26, 0.27, 0.28, 0.29, 0.3 ],\n",
              "       [0.31, 0.32, 0.33, 0.34, 0.35, 0.36, 0.37, 0.38, 0.39, 0.4 ],\n",
              "       [0.41, 0.42, 0.43, 0.44, 0.45, 0.46, 0.47, 0.48, 0.49, 0.5 ],\n",
              "       [0.51, 0.52, 0.53, 0.54, 0.55, 0.56, 0.57, 0.58, 0.59, 0.6 ],\n",
              "       [0.61, 0.62, 0.63, 0.64, 0.65, 0.66, 0.67, 0.68, 0.69, 0.7 ],\n",
              "       [0.71, 0.72, 0.73, 0.74, 0.75, 0.76, 0.77, 0.78, 0.79, 0.8 ],\n",
              "       [0.81, 0.82, 0.83, 0.84, 0.85, 0.86, 0.87, 0.88, 0.89, 0.9 ],\n",
              "       [0.91, 0.92, 0.93, 0.94, 0.95, 0.96, 0.97, 0.98, 0.99, 1.  ]])"
            ]
          },
          "metadata": {},
          "execution_count": 11
        }
      ]
    },
    {
      "cell_type": "markdown",
      "source": [
        "Create an array of 20 linearly spaced points between 0 and 1:"
      ],
      "metadata": {
        "id": "y22voBJ8V4_9"
      }
    },
    {
      "cell_type": "code",
      "source": [
        "np.linspace(0, 1, 20)\n"
      ],
      "metadata": {
        "colab": {
          "base_uri": "https://localhost:8080/",
          "height": 0
        },
        "id": "YL85ng5xV8o8",
        "outputId": "df8953b9-343a-41ca-dd64-0c65c233f600"
      },
      "execution_count": 12,
      "outputs": [
        {
          "output_type": "execute_result",
          "data": {
            "text/plain": [
              "array([0.        , 0.05263158, 0.10526316, 0.15789474, 0.21052632,\n",
              "       0.26315789, 0.31578947, 0.36842105, 0.42105263, 0.47368421,\n",
              "       0.52631579, 0.57894737, 0.63157895, 0.68421053, 0.73684211,\n",
              "       0.78947368, 0.84210526, 0.89473684, 0.94736842, 1.        ])"
            ]
          },
          "metadata": {},
          "execution_count": 12
        }
      ]
    },
    {
      "cell_type": "markdown",
      "source": [
        "Numpy Indexing and Selection\n",
        "\n",
        "Now you will be given a few matrices, and be asked to replicate the resulting matrix outputs:\n"
      ],
      "metadata": {
        "id": "mAa-6emjV9Qq"
      }
    },
    {
      "cell_type": "code",
      "source": [
        "mat = np.arange(1,26).reshape(5,5)\n",
        "mat"
      ],
      "metadata": {
        "colab": {
          "base_uri": "https://localhost:8080/",
          "height": 0
        },
        "id": "9z6SZqLuWBFe",
        "outputId": "124b2706-ab16-4643-ee5a-778c10c5638b"
      },
      "execution_count": 13,
      "outputs": [
        {
          "output_type": "execute_result",
          "data": {
            "text/plain": [
              "array([[ 1,  2,  3,  4,  5],\n",
              "       [ 6,  7,  8,  9, 10],\n",
              "       [11, 12, 13, 14, 15],\n",
              "       [16, 17, 18, 19, 20],\n",
              "       [21, 22, 23, 24, 25]])"
            ]
          },
          "metadata": {},
          "execution_count": 13
        }
      ]
    },
    {
      "cell_type": "code",
      "source": [
        "mat1=mat[2:6,1:5]\n",
        "mat1"
      ],
      "metadata": {
        "colab": {
          "base_uri": "https://localhost:8080/",
          "height": 0
        },
        "id": "FDAOS0RnWOMT",
        "outputId": "a2ebd8ec-1454-43bd-8e6c-812e5fe2dbf1"
      },
      "execution_count": 14,
      "outputs": [
        {
          "output_type": "execute_result",
          "data": {
            "text/plain": [
              "array([[12, 13, 14, 15],\n",
              "       [17, 18, 19, 20],\n",
              "       [22, 23, 24, 25]])"
            ]
          },
          "metadata": {},
          "execution_count": 14
        }
      ]
    },
    {
      "cell_type": "code",
      "source": [
        "mat1[1][-1]\n"
      ],
      "metadata": {
        "colab": {
          "base_uri": "https://localhost:8080/",
          "height": 0
        },
        "id": "j7bcVCxMWU6N",
        "outputId": "4b5fcb3a-24db-4569-8d63-c4935ba6f3e0"
      },
      "execution_count": 15,
      "outputs": [
        {
          "output_type": "execute_result",
          "data": {
            "text/plain": [
              "20"
            ]
          },
          "metadata": {},
          "execution_count": 15
        }
      ]
    },
    {
      "cell_type": "code",
      "source": [
        "mat[0:3,1:2]\n"
      ],
      "metadata": {
        "colab": {
          "base_uri": "https://localhost:8080/",
          "height": 0
        },
        "id": "Z-RxVBWYWWoN",
        "outputId": "96dd87fe-0222-44ba-825b-e9e1456902f6"
      },
      "execution_count": 16,
      "outputs": [
        {
          "output_type": "execute_result",
          "data": {
            "text/plain": [
              "array([[ 2],\n",
              "       [ 7],\n",
              "       [12]])"
            ]
          },
          "metadata": {},
          "execution_count": 16
        }
      ]
    },
    {
      "cell_type": "code",
      "source": [
        "mat[-1]\n"
      ],
      "metadata": {
        "colab": {
          "base_uri": "https://localhost:8080/",
          "height": 0
        },
        "id": "5XAvzSCLWZEP",
        "outputId": "89ba9d54-2ab8-4eb2-d0cd-77548b48ff5a"
      },
      "execution_count": 17,
      "outputs": [
        {
          "output_type": "execute_result",
          "data": {
            "text/plain": [
              "array([21, 22, 23, 24, 25])"
            ]
          },
          "metadata": {},
          "execution_count": 17
        }
      ]
    },
    {
      "cell_type": "code",
      "source": [
        "mat[-2:]"
      ],
      "metadata": {
        "colab": {
          "base_uri": "https://localhost:8080/",
          "height": 0
        },
        "id": "S-pSQ1VgWbKh",
        "outputId": "d957dda8-161e-49e9-edfb-fccb22b2c146"
      },
      "execution_count": 18,
      "outputs": [
        {
          "output_type": "execute_result",
          "data": {
            "text/plain": [
              "array([[16, 17, 18, 19, 20],\n",
              "       [21, 22, 23, 24, 25]])"
            ]
          },
          "metadata": {},
          "execution_count": 18
        }
      ]
    },
    {
      "cell_type": "markdown",
      "source": [
        "Get the sum of all the values in mat\n"
      ],
      "metadata": {
        "id": "Sv7F2oRJWdYi"
      }
    },
    {
      "cell_type": "code",
      "source": [
        "mat.sum()"
      ],
      "metadata": {
        "colab": {
          "base_uri": "https://localhost:8080/",
          "height": 0
        },
        "id": "1TFO66iJWd9I",
        "outputId": "433e9609-cb14-45c6-b099-d7dd882eb053"
      },
      "execution_count": 19,
      "outputs": [
        {
          "output_type": "execute_result",
          "data": {
            "text/plain": [
              "325"
            ]
          },
          "metadata": {},
          "execution_count": 19
        }
      ]
    },
    {
      "cell_type": "markdown",
      "source": [
        "Get the standard deviation of the values in mat"
      ],
      "metadata": {
        "id": "8O2WM16EWgja"
      }
    },
    {
      "cell_type": "code",
      "source": [
        "np.std(mat)"
      ],
      "metadata": {
        "colab": {
          "base_uri": "https://localhost:8080/",
          "height": 0
        },
        "id": "NWoz5eq5Wg_H",
        "outputId": "93740672-21f3-4bce-b891-e235051be606"
      },
      "execution_count": 20,
      "outputs": [
        {
          "output_type": "execute_result",
          "data": {
            "text/plain": [
              "7.211102550927978"
            ]
          },
          "metadata": {},
          "execution_count": 20
        }
      ]
    },
    {
      "cell_type": "markdown",
      "source": [
        "Get the sum of all the columns in mat\n"
      ],
      "metadata": {
        "id": "SDFkXR7kWi0_"
      }
    },
    {
      "cell_type": "code",
      "source": [
        "np.sum(mat, axis=0)\n"
      ],
      "metadata": {
        "colab": {
          "base_uri": "https://localhost:8080/",
          "height": 0
        },
        "id": "wciffA5nWkZO",
        "outputId": "08a563cc-c3f3-4bd6-fa46-2ee71d594893"
      },
      "execution_count": 21,
      "outputs": [
        {
          "output_type": "execute_result",
          "data": {
            "text/plain": [
              "array([55, 60, 65, 70, 75])"
            ]
          },
          "metadata": {},
          "execution_count": 21
        }
      ]
    }
  ]
}